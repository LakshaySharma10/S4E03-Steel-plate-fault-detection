{
  "metadata": {
    "kernelspec": {
      "language": "python",
      "display_name": "Python 3",
      "name": "python3"
    },
    "language_info": {
      "name": "python",
      "version": "3.10.13",
      "mimetype": "text/x-python",
      "codemirror_mode": {
        "name": "ipython",
        "version": 3
      },
      "pygments_lexer": "ipython3",
      "nbconvert_exporter": "python",
      "file_extension": ".py"
    },
    "kaggle": {
      "accelerator": "nvidiaTeslaT4",
      "dataSources": [
        {
          "sourceId": 68699,
          "databundleVersionId": 7659021,
          "sourceType": "competition"
        },
        {
          "sourceId": 3972,
          "sourceType": "datasetVersion",
          "datasetId": 2363
        },
        {
          "sourceId": 7789584,
          "sourceType": "datasetVersion",
          "datasetId": 4559448
        }
      ],
      "dockerImageVersionId": 30665,
      "isInternetEnabled": true,
      "language": "python",
      "sourceType": "notebook",
      "isGpuEnabled": true
    },
    "colab": {
      "name": "Steel Plate Fault",
      "provenance": [],
      "include_colab_link": true
    }
  },
  "nbformat_minor": 0,
  "nbformat": 4,
  "cells": [
    {
      "cell_type": "markdown",
      "metadata": {
        "id": "view-in-github",
        "colab_type": "text"
      },
      "source": [
        "<a href=\"https://colab.research.google.com/github/LakshaySharma10/S4E03-Steel-plate-fault-detection/blob/main/Steel_Plate_Fault.ipynb\" target=\"_parent\"><img src=\"https://colab.research.google.com/assets/colab-badge.svg\" alt=\"Open In Colab\"/></a>"
      ]
    },
    {
      "source": [
        "\n",
        "# IMPORTANT: RUN THIS CELL IN ORDER TO IMPORT YOUR KAGGLE DATA SOURCES\n",
        "# TO THE CORRECT LOCATION (/kaggle/input) IN YOUR NOTEBOOK,\n",
        "# THEN FEEL FREE TO DELETE THIS CELL.\n",
        "# NOTE: THIS NOTEBOOK ENVIRONMENT DIFFERS FROM KAGGLE'S PYTHON\n",
        "# ENVIRONMENT SO THERE MAY BE MISSING LIBRARIES USED BY YOUR\n",
        "# NOTEBOOK.\n",
        "\n",
        "import os\n",
        "import sys\n",
        "from tempfile import NamedTemporaryFile\n",
        "from urllib.request import urlopen\n",
        "from urllib.parse import unquote, urlparse\n",
        "from urllib.error import HTTPError\n",
        "from zipfile import ZipFile\n",
        "import tarfile\n",
        "import shutil\n",
        "\n",
        "CHUNK_SIZE = 40960\n",
        "DATA_SOURCE_MAPPING = 'playground-series-s4e3:https%3A%2F%2Fstorage.googleapis.com%2Fkaggle-competitions-data%2Fkaggle-v2%2F68699%2F7659021%2Fbundle%2Farchive.zip%3FX-Goog-Algorithm%3DGOOG4-RSA-SHA256%26X-Goog-Credential%3Dgcp-kaggle-com%2540kaggle-161607.iam.gserviceaccount.com%252F20240326%252Fauto%252Fstorage%252Fgoog4_request%26X-Goog-Date%3D20240326T042007Z%26X-Goog-Expires%3D259200%26X-Goog-SignedHeaders%3Dhost%26X-Goog-Signature%3D2ce0f299f8b881ed460604162ebec6c1ae981ab26adc3a5a74a91153b2bffd803e89ef625de911723d3f4f6ab0f025b2695b53e0f4634e6622be6c91c228e08f3f14792dbaa976fc4d6585be145dbc1d52d60684c14397d0e7cb7f0bf8b541c27e067a25619b031876632a9c130ca6f41945bb8615b81910269e94c8ff8487bbf4410e0bef438080d9e1e2f17318a7d55c92e375213570e70fe095b466e4e125d562903230f5c8cadbfdb666c47d30b0c9586022750c5afebcf2684570afe55ff82613cf59f27fafbecbeefd9bac9a3ba66060be8d99d10d381942abd700890ae521fb87f554e07aff39851c563dd8a917de355ac692999b93c31f1df027dacd,faulty-steel-plates:https%3A%2F%2Fstorage.googleapis.com%2Fkaggle-data-sets%2F2363%2F3972%2Fbundle%2Farchive.zip%3FX-Goog-Algorithm%3DGOOG4-RSA-SHA256%26X-Goog-Credential%3Dgcp-kaggle-com%2540kaggle-161607.iam.gserviceaccount.com%252F20240326%252Fauto%252Fstorage%252Fgoog4_request%26X-Goog-Date%3D20240326T042007Z%26X-Goog-Expires%3D259200%26X-Goog-SignedHeaders%3Dhost%26X-Goog-Signature%3D58eef0077798a9d986bd58bd2ca7f2c801e8d0ce7a7ab8b9f4f8229c80d9d8e42fb3fdce283dfbeb4685027d9747b8bd601b6da7f9068b15a9320bb9de97b2a0b09d8d8d6d0e20572a18d0c24901c2c883d6e8308cfb352992e38001f6e2d8de0f3787065ba27c46015407fb0f69f8ba433547272bdbc5f37f22e0961ef532bf8c31d169f4e9edc04b2bad432fadebfb5ecf5a39fa8340595b7d9d8b88138a0ed93b28d34c56be5df45904adff5d58cd981672ab05247e0b30ab900b518cfa6773758a520fd10711f10a1d9dc3180fcb1e2962d2b0eec68e7dd8a772bf0bec84c8dab439a01cc036e169a228d31f0b294cd89c009ffd7d622e4f45b390e1c679,steel-plate-fault-submission:https%3A%2F%2Fstorage.googleapis.com%2Fkaggle-data-sets%2F4559448%2F7789584%2Fbundle%2Farchive.zip%3FX-Goog-Algorithm%3DGOOG4-RSA-SHA256%26X-Goog-Credential%3Dgcp-kaggle-com%2540kaggle-161607.iam.gserviceaccount.com%252F20240326%252Fauto%252Fstorage%252Fgoog4_request%26X-Goog-Date%3D20240326T042007Z%26X-Goog-Expires%3D259200%26X-Goog-SignedHeaders%3Dhost%26X-Goog-Signature%3D56565bff1565d0fa630fd74dbf0225f21473ba221461cbdd1bb6b770e70acac818813e225831795b581b3789f0a4816d1c43fd775c0629336c72da6c550de7a0b2957b836a4fa0318ddd2fdff673499f4b55fb40d7fb5fff56b8647346d79fb9b69dba11fe95a0e21772e1276202bf8b20df86866923244ce39fdcec62b485b71a556fd01a797e7b01cefc2459d466e7dcb3093a374f43cb50e810619ead9df84f6f545a53f8f775c06b3d15dcb797e1c6a3319bef77c87fd811b72190874a681f738c2084c90903767ec36dc127d3c0bd51ad3aa3a207937c1c42ebe26d3227ff8fcf9d804952152e3b6b05ae0e3a723f02751d0271d197eed5c66f88993f99'\n",
        "\n",
        "KAGGLE_INPUT_PATH='/kaggle/input'\n",
        "KAGGLE_WORKING_PATH='/kaggle/working'\n",
        "KAGGLE_SYMLINK='kaggle'\n",
        "\n",
        "!umount /kaggle/input/ 2> /dev/null\n",
        "shutil.rmtree('/kaggle/input', ignore_errors=True)\n",
        "os.makedirs(KAGGLE_INPUT_PATH, 0o777, exist_ok=True)\n",
        "os.makedirs(KAGGLE_WORKING_PATH, 0o777, exist_ok=True)\n",
        "\n",
        "try:\n",
        "  os.symlink(KAGGLE_INPUT_PATH, os.path.join(\"..\", 'input'), target_is_directory=True)\n",
        "except FileExistsError:\n",
        "  pass\n",
        "try:\n",
        "  os.symlink(KAGGLE_WORKING_PATH, os.path.join(\"..\", 'working'), target_is_directory=True)\n",
        "except FileExistsError:\n",
        "  pass\n",
        "\n",
        "for data_source_mapping in DATA_SOURCE_MAPPING.split(','):\n",
        "    directory, download_url_encoded = data_source_mapping.split(':')\n",
        "    download_url = unquote(download_url_encoded)\n",
        "    filename = urlparse(download_url).path\n",
        "    destination_path = os.path.join(KAGGLE_INPUT_PATH, directory)\n",
        "    try:\n",
        "        with urlopen(download_url) as fileres, NamedTemporaryFile() as tfile:\n",
        "            total_length = fileres.headers['content-length']\n",
        "            print(f'Downloading {directory}, {total_length} bytes compressed')\n",
        "            dl = 0\n",
        "            data = fileres.read(CHUNK_SIZE)\n",
        "            while len(data) > 0:\n",
        "                dl += len(data)\n",
        "                tfile.write(data)\n",
        "                done = int(50 * dl / int(total_length))\n",
        "                sys.stdout.write(f\"\\r[{'=' * done}{' ' * (50-done)}] {dl} bytes downloaded\")\n",
        "                sys.stdout.flush()\n",
        "                data = fileres.read(CHUNK_SIZE)\n",
        "            if filename.endswith('.zip'):\n",
        "              with ZipFile(tfile) as zfile:\n",
        "                zfile.extractall(destination_path)\n",
        "            else:\n",
        "              with tarfile.open(tfile.name) as tarfile:\n",
        "                tarfile.extractall(destination_path)\n",
        "            print(f'\\nDownloaded and uncompressed: {directory}')\n",
        "    except HTTPError as e:\n",
        "        print(f'Failed to load (likely expired) {download_url} to path {destination_path}')\n",
        "        continue\n",
        "    except OSError as e:\n",
        "        print(f'Failed to load {download_url} to path {destination_path}')\n",
        "        continue\n",
        "\n",
        "print('Data source import complete.')\n"
      ],
      "metadata": {
        "id": "8Q7VHQjn_LOB"
      },
      "cell_type": "code",
      "outputs": [],
      "execution_count": null
    },
    {
      "cell_type": "markdown",
      "source": [
        "# Load Libraries"
      ],
      "metadata": {
        "id": "Ngoch052_LOD"
      }
    },
    {
      "cell_type": "code",
      "source": [
        "!pip install iterative-stratification cmaes -q"
      ],
      "metadata": {
        "execution": {
          "iopub.status.busy": "2024-03-25T09:03:14.695231Z",
          "iopub.execute_input": "2024-03-25T09:03:14.695881Z",
          "iopub.status.idle": "2024-03-25T09:03:28.776306Z",
          "shell.execute_reply.started": "2024-03-25T09:03:14.695829Z",
          "shell.execute_reply": "2024-03-25T09:03:28.775051Z"
        },
        "trusted": true,
        "id": "TBKns6YA_LOF"
      },
      "execution_count": null,
      "outputs": []
    },
    {
      "cell_type": "code",
      "source": [
        "from sklearn.model_selection import cross_validate\n",
        "from sklearn.model_selection import RepeatedStratifiedKFold\n",
        "from sklearn.model_selection import StratifiedKFold\n",
        "from sklearn.model_selection import cross_val_score\n",
        "from iterstrat.ml_stratifiers import MultilabelStratifiedKFold\n",
        "from sklearn.metrics import roc_auc_score\n",
        "from sklearn.model_selection import train_test_split\n",
        "from xgboost import XGBClassifier\n",
        "\n",
        "import sklearn\n",
        "import warnings\n",
        "\n",
        "warnings.filterwarnings(\"ignore\")\n",
        "import pandas as pd\n",
        "import numpy as np\n",
        "import tensorflow as tf\n",
        "import random as rn\n",
        "import matplotlib.pyplot as plt\n",
        "import seaborn as sns\n",
        "\n",
        "sns.set()\n",
        "\n",
        "import os\n",
        "\n",
        "os.listdir(\"/kaggle/input\")\n",
        "os.environ[\"PYTHONHASHSEED\"] = \"325\"\n",
        "rn.seed(279)\n",
        "tf.random.set_seed(23)"
      ],
      "metadata": {
        "_uuid": "8f2839f25d086af736a60e9eeb907d3b93b6e0e5",
        "_cell_guid": "b1076dfc-b9ad-4769-8c92-a6c4dae69d19",
        "execution": {
          "iopub.status.busy": "2024-03-25T09:03:28.778367Z",
          "iopub.execute_input": "2024-03-25T09:03:28.778651Z",
          "iopub.status.idle": "2024-03-25T09:03:43.096872Z",
          "shell.execute_reply.started": "2024-03-25T09:03:28.778624Z",
          "shell.execute_reply": "2024-03-25T09:03:43.096129Z"
        },
        "trusted": true,
        "id": "tXSrQTXs_LOF"
      },
      "execution_count": null,
      "outputs": []
    },
    {
      "cell_type": "markdown",
      "source": [
        "# Load Data"
      ],
      "metadata": {
        "id": "Ku0r7xn3_LOF"
      }
    },
    {
      "cell_type": "code",
      "source": [
        "df_train = pd.read_csv('/kaggle/input/playground-series-s4e3/train.csv')\n",
        "df_org = pd.read_csv('/kaggle/input/faulty-steel-plates/faults.csv')\n",
        "df_test = pd.read_csv('/kaggle/input/playground-series-s4e3/test.csv')\n",
        "df_sub  = pd.read_csv('/kaggle/input/playground-series-s4e3/sample_submission.csv')"
      ],
      "metadata": {
        "execution": {
          "iopub.status.busy": "2024-03-25T09:03:43.097968Z",
          "iopub.execute_input": "2024-03-25T09:03:43.098439Z",
          "iopub.status.idle": "2024-03-25T09:03:43.369461Z",
          "shell.execute_reply.started": "2024-03-25T09:03:43.09841Z",
          "shell.execute_reply": "2024-03-25T09:03:43.368688Z"
        },
        "trusted": true,
        "id": "yLObqTrl_LOF"
      },
      "execution_count": null,
      "outputs": []
    },
    {
      "cell_type": "code",
      "source": [
        "df_train=df_train.drop(['id'],axis=1)\n",
        "df_test_ids = df_test['id']\n",
        "df_test=df_test.drop(['id'],axis=1)\n",
        "df_combined = pd.concat([df_train, df_org], ignore_index=True)"
      ],
      "metadata": {
        "execution": {
          "iopub.status.busy": "2024-03-25T09:03:43.371418Z",
          "iopub.execute_input": "2024-03-25T09:03:43.371704Z",
          "iopub.status.idle": "2024-03-25T09:03:43.391553Z",
          "shell.execute_reply.started": "2024-03-25T09:03:43.37168Z",
          "shell.execute_reply": "2024-03-25T09:03:43.39075Z"
        },
        "trusted": true,
        "id": "RsmSVgin_LOH"
      },
      "execution_count": null,
      "outputs": []
    },
    {
      "cell_type": "code",
      "source": [
        "label_columns=['Pastry','Z_Scratch', 'K_Scatch',   'Stains',   'Dirtiness','Bumps','Other_Faults']"
      ],
      "metadata": {
        "execution": {
          "iopub.status.busy": "2024-03-25T09:03:43.392641Z",
          "iopub.execute_input": "2024-03-25T09:03:43.392943Z",
          "iopub.status.idle": "2024-03-25T09:03:43.398801Z",
          "shell.execute_reply.started": "2024-03-25T09:03:43.392918Z",
          "shell.execute_reply": "2024-03-25T09:03:43.397205Z"
        },
        "trusted": true,
        "id": "Ier-EXOt_LOH"
      },
      "execution_count": null,
      "outputs": []
    },
    {
      "cell_type": "code",
      "source": [
        "df_train=df_combined\n",
        "y_train=df_train[label_columns]\n",
        "X_train=df_train.drop(columns=label_columns,axis=1)\n",
        "X_test=df_test"
      ],
      "metadata": {
        "execution": {
          "iopub.status.busy": "2024-03-25T09:03:43.400749Z",
          "iopub.execute_input": "2024-03-25T09:03:43.40101Z",
          "iopub.status.idle": "2024-03-25T09:03:43.412528Z",
          "shell.execute_reply.started": "2024-03-25T09:03:43.400988Z",
          "shell.execute_reply": "2024-03-25T09:03:43.41174Z"
        },
        "trusted": true,
        "id": "8HIeKHtv_LOH"
      },
      "execution_count": null,
      "outputs": []
    },
    {
      "cell_type": "code",
      "source": [
        "features=list(X_train)\n",
        "cat_features=['TypeOfSteel_A300','TypeOfSteel_A400']\n",
        "\n",
        "scale_cols = features.copy()\n",
        "for f in cat_features:\n",
        "    scale_cols.remove(f)"
      ],
      "metadata": {
        "execution": {
          "iopub.status.busy": "2024-03-25T09:03:43.413585Z",
          "iopub.execute_input": "2024-03-25T09:03:43.41388Z",
          "iopub.status.idle": "2024-03-25T09:03:43.42165Z",
          "shell.execute_reply.started": "2024-03-25T09:03:43.413851Z",
          "shell.execute_reply": "2024-03-25T09:03:43.420897Z"
        },
        "trusted": true,
        "id": "4DAFTW5b_LOI"
      },
      "execution_count": null,
      "outputs": []
    },
    {
      "cell_type": "markdown",
      "source": [
        "# Preprocessing"
      ],
      "metadata": {
        "id": "F3OEd17r_LOI"
      }
    },
    {
      "cell_type": "code",
      "source": [
        "from sklearn.preprocessing import MinMaxScaler\n",
        "scaler = MinMaxScaler()\n",
        "X_train[scale_cols] = scaler.fit_transform(X_train[scale_cols])\n",
        "X_test[scale_cols] = scaler.transform(X_test[scale_cols])\n"
      ],
      "metadata": {
        "execution": {
          "iopub.status.busy": "2024-03-25T09:03:43.422663Z",
          "iopub.execute_input": "2024-03-25T09:03:43.422887Z",
          "iopub.status.idle": "2024-03-25T09:03:43.461268Z",
          "shell.execute_reply.started": "2024-03-25T09:03:43.422867Z",
          "shell.execute_reply": "2024-03-25T09:03:43.460572Z"
        },
        "trusted": true,
        "id": "Ndfhx65p_LOI"
      },
      "execution_count": null,
      "outputs": []
    },
    {
      "cell_type": "markdown",
      "source": [
        "# XGBoost CV"
      ],
      "metadata": {
        "id": "bafiSOj8_LOI"
      }
    },
    {
      "cell_type": "code",
      "source": [
        "class Model:\n",
        "    def __init__(self, train, test):\n",
        "        self.train             = train\n",
        "        self.test              = test\n",
        "        self.model_dict        = dict()\n",
        "        self.test_predict_list = list()\n",
        "\n",
        "    def fit(self, params):\n",
        "        label_columns = ['Pastry','Z_Scratch','K_Scatch','Stains','Dirtiness','Bumps','Other_Faults']\n",
        "\n",
        "        train_cols = [col for col in self.train.columns.to_list() if col not in label_columns]\n",
        "        scores = list()\n",
        "\n",
        "        for i in range(5):\n",
        "            mskf = MultilabelStratifiedKFold(n_splits=10, shuffle=True)\n",
        "            oof_valid_preds = np.zeros((self.train[train_cols].shape[0], len(label_columns)))\n",
        "\n",
        "            for fold, (train_idx, valid_idx) in enumerate(mskf.split(self.train[train_cols], self.train[label_columns])):\n",
        "                X_train, y_train = self.train[train_cols].iloc[train_idx], self.train[label_columns].iloc[train_idx]\n",
        "                X_valid, y_valid = self.train[train_cols].iloc[valid_idx], self.train[label_columns].iloc[valid_idx]\n",
        "\n",
        "                model = XGBClassifier(**params)\n",
        "                model.fit(X_train, y_train, eval_set = [(X_valid, y_valid)], early_stopping_rounds = 250, verbose = False)\n",
        "\n",
        "                valid_preds = model.predict_proba(X_valid)\n",
        "                oof_valid_preds[valid_idx] = valid_preds\n",
        "\n",
        "                test_predict = model.predict_proba(self.test[train_cols])\n",
        "                self.test_predict_list.append(test_predict)\n",
        "\n",
        "                score = roc_auc_score(y_valid, valid_preds, multi_class=\"ovr\")\n",
        "                self.model_dict[f'fold_{fold}'] = model\n",
        "\n",
        "            oof_score = roc_auc_score(self.train[label_columns], oof_valid_preds, multi_class=\"ovr\")\n",
        "            print(f\"The OOF auc score for iteration {i+1} is {oof_score}\")\n",
        "            scores.append(oof_score)\n",
        "        return scores, self.test_predict_list, oof_valid_preds"
      ],
      "metadata": {
        "execution": {
          "iopub.status.busy": "2024-03-25T09:03:43.462214Z",
          "iopub.execute_input": "2024-03-25T09:03:43.462445Z",
          "iopub.status.idle": "2024-03-25T09:03:43.475243Z",
          "shell.execute_reply.started": "2024-03-25T09:03:43.462424Z",
          "shell.execute_reply": "2024-03-25T09:03:43.474292Z"
        },
        "trusted": true,
        "id": "BWgbazfA_LOI"
      },
      "execution_count": null,
      "outputs": []
    },
    {
      "cell_type": "markdown",
      "source": [
        "# Tunned Parameters"
      ],
      "metadata": {
        "id": "bxB7fdxo_LOJ"
      }
    },
    {
      "cell_type": "code",
      "source": [
        "params_1 = {\n",
        "    \"gamma\": 0.44,\n",
        "    \"verbosity\": 0,\n",
        "    \"max_depth\": 5,\n",
        "    \"subsample\": 0.7,\n",
        "    \"reg_alpha\": 0.54,\n",
        "    \"random_state\": 18,\n",
        "    \"n_estimators\": 1800,\n",
        "    \"min_child_weight\": 4,\n",
        "    \"reg_lambda\": 1.8e-06,\n",
        "    \"learning_rate\": 0.006,\n",
        "    \"colsample_bytree\": 0.38,\n",
        "    \"booster\": \"gbtree\",\n",
        "    \"device_type\": \"cuda\",\n",
        "    \"tree_method\": \"gpu_hist\",\n",
        "    \"grow_policy\": \"depthwise\",\n",
        "}\n",
        "params_2 = {\n",
        "    \"gamma\": 0.24997920132991797,\n",
        "    \"verbosity\": 0,\n",
        "    \"max_depth\": 5,\n",
        "    \"subsample\": 0.8841265541346639,\n",
        "    \"reg_lambda\": 2.9660886967874625,\n",
        "    \"n_estimators\": 703,\n",
        "    \"min_child_weight\": 5,\n",
        "    \"reg_alpha\": 0.00011509254946941848,\n",
        "    \"learning_rate\": 0.023358116742747285,\n",
        "    \"colsample_bytree\": 0.362499715714305,\n",
        "    \"booster\": \"gbtree\",\n",
        "    \"device_type\": \"cuda\",\n",
        "    \"tree_method\": \"gpu_hist\",\n",
        "    \"grow_policy\": \"depthwise\",\n",
        "}\n",
        "\n",
        "params_3 = {\n",
        "    \"verbosity\": 0,\n",
        "    \"max_depth\": 5,\n",
        "    \"n_estimators\": 494,\n",
        "    \"random_state\": 18,\n",
        "    \"min_child_weight\": 3,\n",
        "    \"subsample\": 0.8504122771965839,\n",
        "    \"reg_alpha\": 1.5855453969671037e-06,\n",
        "    \"reg_lambda\": 1.4155529076600075,\n",
        "    \"learning_rate\": 0.02767540293640535,\n",
        "    \"colsample_bytree\": 0.46589178614541227,\n",
        "    \"device\": \"cuda\",\n",
        "    \"tree_method\": \"hist\",\n",
        "}\n",
        "\n",
        "params_4 = {\n",
        "    \"max_depth\": 7,\n",
        "    \"min_child_weight\": 1,\n",
        "    \"n_estimators\": 1235,\n",
        "    \"gamma\": 0.6499918347241912,\n",
        "    \"subsample\": 0.9116532305497375,\n",
        "    \"reg_lambda\": 1.7005084366184795,\n",
        "    \"reg_alpha\": 0.0059679946773570774,\n",
        "    \"learning_rate\": 0.008352405007099802,\n",
        "    \"colsample_bytree\": 0.49334879814671045,\n",
        "    \"device\": \"cuda\",\n",
        "    \"tree_method\": \"hist\"\n",
        "}\n",
        "\n",
        "params_5 = {\n",
        "    \"gamma\": 0.44,\n",
        "    \"verbosity\": 0,\n",
        "    \"max_depth\": 5,\n",
        "    \"subsample\": 0.7,\n",
        "    \"reg_alpha\": 0.54,\n",
        "    \"random_state\": 18,\n",
        "    \"n_estimators\": 1800,\n",
        "    \"min_child_weight\": 4,\n",
        "    \"reg_lambda\": 1.8e-06,\n",
        "    \"learning_rate\": 0.006,\n",
        "    \"colsample_bytree\": 0.38,\n",
        "    \"booster\": \"gbtree\",\n",
        "    \"tree_method\": \"gpu_hist\",\n",
        "    \"grow_policy\": \"depthwise\",\n",
        "}"
      ],
      "metadata": {
        "execution": {
          "iopub.status.busy": "2024-03-25T09:03:43.477955Z",
          "iopub.execute_input": "2024-03-25T09:03:43.478242Z",
          "iopub.status.idle": "2024-03-25T09:03:43.490425Z",
          "shell.execute_reply.started": "2024-03-25T09:03:43.478219Z",
          "shell.execute_reply": "2024-03-25T09:03:43.489546Z"
        },
        "trusted": true,
        "id": "iVFWTD7t_LOJ"
      },
      "execution_count": null,
      "outputs": []
    },
    {
      "cell_type": "code",
      "source": [
        "X_train_ = pd.concat([X_train, y_train], axis=1,ignore_index=True)\n",
        "X_train_.columns=features+label_columns"
      ],
      "metadata": {
        "execution": {
          "iopub.status.busy": "2024-03-25T09:03:43.49136Z",
          "iopub.execute_input": "2024-03-25T09:03:43.491615Z",
          "iopub.status.idle": "2024-03-25T09:03:43.509652Z",
          "shell.execute_reply.started": "2024-03-25T09:03:43.491592Z",
          "shell.execute_reply": "2024-03-25T09:03:43.508894Z"
        },
        "trusted": true,
        "id": "H-F5kUCa_LOJ"
      },
      "execution_count": null,
      "outputs": []
    },
    {
      "cell_type": "code",
      "source": [
        "model = Model(X_train_,X_test)\n",
        "scores,preds_1,oof_valid_preds_1 = model.fit(params_1)\n",
        "print(f'The average roc-auc score is {np.mean(scores)}')\n",
        "score1=np.mean(scores)\n",
        "\n",
        "# model = Model(X_train_,X_test)\n",
        "# scores,preds_2 = model.fit(params_2)\n",
        "# print(f'The average roc-auc score is {np.mean(scores)}')\n",
        "# score2=np.mean(scores)\n",
        "\n",
        "# model = Model(X_train_,X_test)\n",
        "# scores,preds_3 = model.fit(params_3)\n",
        "# print(f'The average roc-auc score is {np.mean(scores)}')\n",
        "# score3=np.mean(scores)\n",
        "\n",
        "# model = Model(X_train_,X_test)\n",
        "# scores,preds_4 = model.fit(params_4)\n",
        "# print(f'The average roc-auc score is {np.mean(scores)}')\n",
        "# score4=np.mean(scores)\n",
        "\n",
        "# model = Model(X_train_,X_test)\n",
        "# scores,preds_5 = model.fit(params_5)\n",
        "# print(f'The average roc-auc score is {np.mean(scores)}')\n",
        "# score5=np.mean(scores)\n"
      ],
      "metadata": {
        "execution": {
          "iopub.status.busy": "2024-03-25T09:03:43.510647Z",
          "iopub.execute_input": "2024-03-25T09:03:43.510896Z",
          "iopub.status.idle": "2024-03-25T09:22:19.982757Z",
          "shell.execute_reply.started": "2024-03-25T09:03:43.510874Z",
          "shell.execute_reply": "2024-03-25T09:22:19.981824Z"
        },
        "trusted": true,
        "id": "mPLVqFCA_LOJ"
      },
      "execution_count": null,
      "outputs": []
    },
    {
      "cell_type": "markdown",
      "source": [
        "# Feature Engineering"
      ],
      "metadata": {
        "id": "BVt2whQb_QD9"
      }
    },
    {
      "cell_type": "code",
      "source": [
        "feature_engineering = True\n",
        "if feature_engineering:\n",
        "    X_train_ = X_train_.drop(\n",
        "        ['Y_Maximum','Y_Minimum',\n",
        "         'SigmoidOfAreas','Edges_X_Index',\n",
        "         'Sum_of_Luminosity','X_Perimeter'\n",
        "        ],axis=1)\n",
        "\n",
        "model = Model(X_train_,X_test)\n",
        "scores,preds_6,oof_valid_preds_6 = model.fit(params_1)\n",
        "print(f'The average roc-auc score is {np.mean(scores)}')\n",
        "score1=np.mean(scores)"
      ],
      "metadata": {
        "execution": {
          "iopub.status.busy": "2024-03-25T09:22:19.983955Z",
          "iopub.execute_input": "2024-03-25T09:22:19.984311Z",
          "iopub.status.idle": "2024-03-25T09:39:27.544033Z",
          "shell.execute_reply.started": "2024-03-25T09:22:19.984283Z",
          "shell.execute_reply": "2024-03-25T09:39:27.542904Z"
        },
        "trusted": true,
        "id": "2OsKFuko_LOJ"
      },
      "execution_count": null,
      "outputs": []
    },
    {
      "cell_type": "markdown",
      "source": [
        "# Hypertuning Parameters"
      ],
      "metadata": {
        "id": "cUiLLgfe_cmz"
      }
    },
    {
      "cell_type": "code",
      "source": [
        "!pip install optuna\n",
        "!pip install --upgrade optuna\n",
        "\n",
        "import optuna\n",
        "!pip install cma\n",
        "from functools import partial\n",
        "from sklearn.metrics import log_loss\n",
        "from optuna.samplers import CmaEsSampler\n",
        "\n",
        "class OptunaWeights:\n",
        "    def __init__(self, random_state, n_trials=5000):\n",
        "        self.study = None\n",
        "        self.weights = None\n",
        "        self.random_state = random_state\n",
        "        self.n_trials = n_trials\n",
        "\n",
        "    def _objective(self, trial, y_true, y_preds):\n",
        "        # Define the weights for the predictions from each model\n",
        "        weights = [trial.suggest_float(f\"weight{n}\", 0, 1) for n in range(len(y_preds))]\n",
        "\n",
        "        # Calculate the weighted prediction\n",
        "        weighted_pred = np.average(np.array(y_preds), axis=0, weights=weights)\n",
        "\n",
        "        auc_score = roc_auc_score(y_true, weighted_pred, multi_class=\"ovr\")\n",
        "        log_loss_score=log_loss(y_true, weighted_pred)\n",
        "        return auc_score #/log_loss_score\n",
        "\n",
        "    def fit(self, y_true, y_preds):\n",
        "        optuna.logging.set_verbosity(optuna.logging.ERROR)\n",
        "        sampler = optuna.samplers.CmaEsSampler(seed=self.random_state)\n",
        "        pruner = optuna.pruners.HyperbandPruner()\n",
        "        self.study = optuna.create_study(sampler=sampler, pruner=pruner, study_name=\"OptunaWeights\", direction='maximize')\n",
        "        objective_partial = partial(self._objective, y_true=y_true, y_preds=y_preds)\n",
        "        self.study.optimize(objective_partial, n_trials=self.n_trials)\n",
        "        self.weights = [self.study.best_params[f\"weight{n}\"] for n in range(len(y_preds))]\n",
        "\n",
        "\n",
        "label_columns = ['Pastry','Z_Scratch','K_Scatch','Stains','Dirtiness','Bumps','Other_Faults']\n",
        "ow = OptunaWeights(42)\n",
        "ow.fit(X_train_[label_columns], y_preds = [\n",
        "                                    oof_valid_preds_1, oof_valid_preds_6\n",
        "                                ])\n",
        "ow.weights"
      ],
      "metadata": {
        "execution": {
          "iopub.status.busy": "2024-03-25T09:49:01.661316Z",
          "iopub.execute_input": "2024-03-25T09:49:01.661972Z",
          "iopub.status.idle": "2024-03-25T09:56:48.48976Z",
          "shell.execute_reply.started": "2024-03-25T09:49:01.66194Z",
          "shell.execute_reply": "2024-03-25T09:56:48.486527Z"
        },
        "trusted": true,
        "id": "Aaxm97XU_LOK"
      },
      "execution_count": null,
      "outputs": []
    },
    {
      "cell_type": "code",
      "source": [
        "import numpy as np\n",
        "# change all weights to make sum equality to 0.3\n",
        "lst_optuna_weights = np.asarray(ow.weights)\n",
        "sum_lst_optuna_weights = np.sum(lst_optuna_weights)\n",
        "lst_optuna_weights = lst_optuna_weights / (sum_lst_optuna_weights * (100/17))\n",
        "lst_optuna_weights"
      ],
      "metadata": {
        "execution": {
          "iopub.status.busy": "2024-03-25T09:56:48.492151Z",
          "iopub.execute_input": "2024-03-25T09:56:48.492589Z",
          "iopub.status.idle": "2024-03-25T09:56:48.502464Z",
          "shell.execute_reply.started": "2024-03-25T09:56:48.492551Z",
          "shell.execute_reply": "2024-03-25T09:56:48.501054Z"
        },
        "trusted": true,
        "id": "hTltvqRu_LOK"
      },
      "execution_count": null,
      "outputs": []
    },
    {
      "cell_type": "markdown",
      "source": [
        "# Submission"
      ],
      "metadata": {
        "id": "anoOhBaW_LOK"
      }
    },
    {
      "cell_type": "code",
      "source": [
        "df_int_result = pd.read_csv('/kaggle/input/steel-plate-fault-submission/submission_intermediate.csv')"
      ],
      "metadata": {
        "execution": {
          "iopub.status.busy": "2024-03-25T09:56:48.503441Z",
          "iopub.execute_input": "2024-03-25T09:56:48.503684Z",
          "iopub.status.idle": "2024-03-25T09:56:48.559356Z",
          "shell.execute_reply.started": "2024-03-25T09:56:48.503655Z",
          "shell.execute_reply": "2024-03-25T09:56:48.558668Z"
        },
        "trusted": true,
        "id": "LGHeAi8P_LOK"
      },
      "execution_count": null,
      "outputs": []
    },
    {
      "cell_type": "code",
      "source": [
        "predictions_1 = np.mean(preds_1,axis=0)\n",
        "# predictions_2 = np.mean(preds_2,axis=0)\n",
        "# predictions_3 = np.mean(preds_3,axis=0)\n",
        "# predictions_4 = np.mean(preds_4,axis=0)\n",
        "# predictions_5 = np.mean(preds_5,axis=0)\n",
        "predictions_6 = np.mean(preds_6,axis=0)\n",
        "\n",
        "\n",
        "\n",
        "#predictions = w[0] * df_int_result[label_columns] + w[1] * predictions_1 + w[2] * predictions_2  + w[3] * predictions_3 + w[4] * predictions_4\n",
        "w = [0.83]\n",
        "predictions = (\n",
        "    w[0] * df_int_result[label_columns] +\n",
        "    (lst_optuna_weights[0]) * predictions_1 +\n",
        "    (lst_optuna_weights[1]) * predictions_6\n",
        ")\n",
        "\n",
        "sub = pd.DataFrame(predictions, columns=label_columns)\n",
        "sub['id'] = df_int_result['id']\n",
        "sub.to_csv('submission.csv',index=False)\n",
        "sub"
      ],
      "metadata": {
        "execution": {
          "iopub.status.busy": "2024-03-25T09:58:22.738116Z",
          "iopub.execute_input": "2024-03-25T09:58:22.738776Z",
          "iopub.status.idle": "2024-03-25T09:58:22.971739Z",
          "shell.execute_reply.started": "2024-03-25T09:58:22.738743Z",
          "shell.execute_reply": "2024-03-25T09:58:22.970779Z"
        },
        "trusted": true,
        "id": "XZBZBFUS_LOK"
      },
      "execution_count": null,
      "outputs": []
    },
    {
      "cell_type": "code",
      "source": [],
      "metadata": {
        "id": "8S-EPVzK_LOK"
      },
      "execution_count": null,
      "outputs": []
    }
  ]
}